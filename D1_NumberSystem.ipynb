{
 "cells": [
  {
   "cell_type": "markdown",
   "metadata": {},
   "source": [
    "###### Q1: Choose your base between 3 and 13"
   ]
  },
  {
   "cell_type": "code",
   "execution_count": null,
   "metadata": {},
   "outputs": [],
   "source": [
    "# Base 11\n",
    "# this function convert base10 numeric value to base11 string value.\n",
    "def base10_base11(in_num):\n",
    "    base=11\n",
    "    chars_in_b11='0123456789A'\n",
    "    is_negative=False\n",
    "    returnVal=''\n",
    "    \n",
    "    if in_num==0:\n",
    "        return '0'\n",
    "    if in_num < 0:\n",
    "        is_negative=True\n",
    "        in_num=abs(in_num)\n",
    "    while in_num > 0:        \n",
    "        returnVal=chars_in_b11[in_num%base]+returnVal\n",
    "        #print(\"mod value\",in_num%base, chars_in_b11[in_num%base], returnVal )\n",
    "        #print (returnVal)\n",
    "        in_num//=11\n",
    "        #print (in_num)\n",
    "    if is_negative:\n",
    "        return '-'+returnVal\n",
    "    else: \n",
    "        return returnVal"
   ]
  },
  {
   "cell_type": "code",
   "execution_count": 25,
   "metadata": {},
   "outputs": [
    {
     "data": {
      "text/plain": [
       "'385'"
      ]
     },
     "execution_count": 25,
     "metadata": {},
     "output_type": "execute_result"
    }
   ],
   "source": [
    "base10_base11(456)"
   ]
  },
  {
   "cell_type": "code",
   "execution_count": 91,
   "metadata": {},
   "outputs": [],
   "source": [
    "# prints the array of base11 string values based on given input value.\n",
    "def print_b11_numbers(nums_to_print):\n",
    "    outValues=[]\n",
    "    for i in range(nums_to_print): \n",
    "        b11Nums=base10_base11(i)\n",
    "        outValues.append(b11Nums)\n",
    "    print (outValues)"
   ]
  },
  {
   "cell_type": "code",
   "execution_count": 92,
   "metadata": {},
   "outputs": [
    {
     "name": "stdout",
     "output_type": "stream",
     "text": [
      "['0', '1', '2', '3', '4', '5', '6', '7', '8', '9', 'A', '10', '11', '12', '13', '14', '15', '16', '17', '18', '19', '1A', '20', '21', '22', '23', '24', '25', '26', '27', '28', '29', '2A', '30', '31', '32', '33', '34', '35', '36', '37', '38', '39', '3A', '40', '41', '42', '43', '44', '45', '46', '47', '48', '49', '4A', '50', '51', '52', '53', '54', '55', '56', '57', '58', '59', '5A', '60', '61', '62', '63', '64', '65', '66', '67', '68', '69', '6A', '70', '71', '72', '73', '74', '75', '76', '77', '78', '79', '7A', '80', '81', '82', '83', '84', '85', '86', '87', '88', '89', '8A', '90', '91', '92', '93', '94', '95', '96', '97', '98', '99', '9A', 'A0', 'A1', 'A2', 'A3', 'A4', 'A5', 'A6', 'A7', 'A8', 'A9', 'AA', '100']\n"
     ]
    }
   ],
   "source": [
    "print_b11_numbers(122)"
   ]
  },
  {
   "cell_type": "markdown",
   "metadata": {},
   "source": [
    "###### Q6. Write a strategy to convert a number in your base to base 10 in plain english or psedo code or code"
   ]
  },
  {
   "cell_type": "code",
   "execution_count": null,
   "metadata": {},
   "outputs": [],
   "source": [
    "# convert base 11 value (string) to base 10 number\n",
    "def base11_base10(base11Val):\n",
    "    chars_in_b11='0123456789A'\n",
    "    is_negative=False\n",
    "    returnVal=0\n",
    "    if base11Val.startswith(\"-\"):\n",
    "        is_negative=True        \n",
    "    if is_negative:\n",
    "        base11Val = base11Val.strip('-')\n",
    "        \n",
    "    for i in base11Val:\n",
    "        returnVal = returnVal * 11 + chars_in_b11.index(i)\n",
    "    if is_negative:\n",
    "        return -returnVal\n",
    "    else:\n",
    "        return returnVal"
   ]
  },
  {
   "cell_type": "markdown",
   "metadata": {},
   "source": [
    "###### Q5: Convert 1, 10, 20, 30, 100 from your base to base10."
   ]
  },
  {
   "cell_type": "code",
   "execution_count": 63,
   "metadata": {},
   "outputs": [
    {
     "name": "stdout",
     "output_type": "stream",
     "text": [
      "1 in base11 = 1 in base10\n",
      "10 in base11 = 11 in base10\n",
      "20 in base11 = 22 in base10\n",
      "30 in base11 = 33 in base10\n",
      "100 in base11 = 121 in base10\n"
     ]
    }
   ],
   "source": [
    "print ('1 in base11 =', base11_base10('1'), 'in base10')\n",
    "print ('10 in base11 =', base11_base10('10'), 'in base10')\n",
    "print ('20 in base11 =', base11_base10('20'), 'in base10')\n",
    "print ('30 in base11 =', base11_base10('30'), 'in base10')\n",
    "print ('100 in base11 =', base11_base10('100'), 'in base10')"
   ]
  },
  {
   "cell_type": "markdown",
   "metadata": {},
   "source": [
    "###### Q2: Add/Substraction single digit and multiple numbers in your number system"
   ]
  },
  {
   "cell_type": "code",
   "execution_count": null,
   "metadata": {},
   "outputs": [],
   "source": [
    "def b11Addition(n1, n2):\n",
    "    b10_n1=base11_base10(n1)\n",
    "    b10_n2=base11_base10(n2)\n",
    "    b10_sum=b10_n1+b10_n2\n",
    "    return base10_base11(b10_sum)"
   ]
  },
  {
   "cell_type": "code",
   "execution_count": 48,
   "metadata": {},
   "outputs": [
    {
     "name": "stdout",
     "output_type": "stream",
     "text": [
      "29\n",
      "7\n",
      "11528\n"
     ]
    }
   ],
   "source": [
    "print(b11Addition('A', '1A'))\n",
    "print(b11Addition('A', '-3'))\n",
    "print(b11Addition('23AA', 'A129'))"
   ]
  },
  {
   "cell_type": "code",
   "execution_count": 49,
   "metadata": {},
   "outputs": [],
   "source": [
    "def b11Substract(n1, n2):\n",
    "    b10_n1=base11_base10(n1)\n",
    "    b10_n2=base11_base10(n2)\n",
    "    b10_sub=b10_n1-b10_n2\n",
    "    return base10_base11(b10_sub)"
   ]
  },
  {
   "cell_type": "code",
   "execution_count": 52,
   "metadata": {},
   "outputs": [
    {
     "name": "stdout",
     "output_type": "stream",
     "text": [
      "10\n",
      "12\n",
      "-782A\n"
     ]
    }
   ],
   "source": [
    "print(b11Substract('1A', 'A'))\n",
    "print(b11Substract('A', '-3'))\n",
    "print(b11Substract('23AA','A129'))#3145-13462"
   ]
  },
  {
   "cell_type": "markdown",
   "metadata": {},
   "source": [
    "###### Q4: Multiply multiple digits in your number system"
   ]
  },
  {
   "cell_type": "code",
   "execution_count": null,
   "metadata": {},
   "outputs": [],
   "source": [
    "def b11Multiply(n1, n2):\n",
    "    b10_n1=base11_base10(n1)\n",
    "    b10_n2=base11_base10(n2)\n",
    "    b10_multiply=b10_n1*b10_n2\n",
    "    return base10_base11(b10_multiply)"
   ]
  },
  {
   "cell_type": "code",
   "execution_count": 54,
   "metadata": {},
   "outputs": [
    {
     "name": "stdout",
     "output_type": "stream",
     "text": [
      "181\n",
      "-28\n",
      "21998182\n"
     ]
    }
   ],
   "source": [
    "print(b11Multiply('1A', 'A'))\n",
    "print(b11Multiply('A', '-3'))\n",
    "print(b11Multiply('23AA','A129'))#3145*13462"
   ]
  },
  {
   "cell_type": "markdown",
   "metadata": {},
   "source": [
    "###### Q3: Prepare a table of single digit multiplications in your number system."
   ]
  },
  {
   "cell_type": "code",
   "execution_count": null,
   "metadata": {},
   "outputs": [],
   "source": [
    "# this function takes base10 numerical value as input and results multiplication table values in base 11\n",
    "def b11_Mtable(b10_n):\n",
    "    \n",
    "    for i in range(1, 11):\n",
    "        result = base10_base11(b10_n * i)\n",
    "        print(result)"
   ]
  },
  {
   "cell_type": "code",
   "execution_count": 61,
   "metadata": {},
   "outputs": [
    {
     "name": "stdout",
     "output_type": "stream",
     "text": [
      "8\n",
      "15\n",
      "22\n",
      "2A\n",
      "37\n",
      "44\n",
      "51\n",
      "59\n",
      "66\n",
      "73\n"
     ]
    }
   ],
   "source": [
    "b11_Mtable(8)"
   ]
  },
  {
   "cell_type": "markdown",
   "metadata": {},
   "source": [
    "###### Q7. Write a strategy to convert a number in base N to base M in plain english or psedo code or code"
   ]
  },
  {
   "cell_type": "code",
   "execution_count": 65,
   "metadata": {},
   "outputs": [
    {
     "name": "stdout",
     "output_type": "stream",
     "text": [
      "1127\n",
      "Digit: 7\n",
      "7\n",
      "Multiply: 8\n",
      "-------------\n",
      "Digit: 2\n",
      "16\n",
      "Multiply: 64\n",
      "-------------\n",
      "Digit: 1\n",
      "64\n",
      "Multiply: 512\n",
      "-------------\n",
      "Digit: 1\n",
      "512\n",
      "Multiply: 4096\n",
      "-------------\n",
      "Final output: 599\n"
     ]
    }
   ],
   "source": [
    "# convert base 8 four digits to base 10\n",
    "x=1127\n",
    "print (x)\n",
    "inBase=8\n",
    "OutBase=10\n",
    "multiply=1\n",
    "result=0\n",
    "output=0\n",
    "\n",
    "while (x!=0):\n",
    "    d=x%OutBase\n",
    "    result=multiply*d\n",
    "    multiply=multiply*inBase\n",
    "    output=output+result\n",
    "    x=x//OutBase\n",
    "    print(\"Digit:\", d)\n",
    "    print(result)\n",
    "    print(\"Multiply:\", multiply)\n",
    "    print(\"-------------\")\n",
    "    \n",
    "print(\"Final output:\", output)"
   ]
  },
  {
   "cell_type": "code",
   "execution_count": 69,
   "metadata": {},
   "outputs": [
    {
     "data": {
      "text/plain": [
       "5.0"
      ]
     },
     "execution_count": 69,
     "metadata": {},
     "output_type": "execute_result"
    }
   ],
   "source": [
    "#Q: Write your own algorithm or strategy to find log10. You can use 10**x.\n",
    "import math\n",
    "\n",
    "math.log10(100000)"
   ]
  }
 ],
 "metadata": {
  "kernelspec": {
   "display_name": "Python 3",
   "language": "python",
   "name": "python3"
  },
  "language_info": {
   "codemirror_mode": {
    "name": "ipython",
    "version": 3
   },
   "file_extension": ".py",
   "mimetype": "text/x-python",
   "name": "python",
   "nbconvert_exporter": "python",
   "pygments_lexer": "ipython3",
   "version": "3.6.8"
  },
  "toc": {
   "base_numbering": 1,
   "nav_menu": {},
   "number_sections": true,
   "sideBar": true,
   "skip_h1_title": false,
   "title_cell": "Table of Contents",
   "title_sidebar": "Contents",
   "toc_cell": false,
   "toc_position": {},
   "toc_section_display": true,
   "toc_window_display": false
  }
 },
 "nbformat": 4,
 "nbformat_minor": 2
}
